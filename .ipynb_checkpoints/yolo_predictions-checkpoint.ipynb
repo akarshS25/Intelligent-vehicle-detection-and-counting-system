{
 "cells": [
  {
   "cell_type": "code",
   "execution_count": 1,
   "id": "034618bd-6fb1-4d5a-ab2f-4fb5c8ac8986",
   "metadata": {},
   "outputs": [],
   "source": [
    "import cv2\n",
    "import numpy as np\n",
    "import os\n",
    "import yaml\n",
    "from yaml.loader import SafeLoader"
   ]
  },
  {
   "cell_type": "code",
   "execution_count": 2,
   "id": "85ff8de6-fdd4-48b6-b299-96aa999f0eb8",
   "metadata": {},
   "outputs": [],
   "source": [
    "# !pip install opencv-python"
   ]
  },
  {
   "cell_type": "code",
   "execution_count": 3,
   "id": "73739311-4295-4cfd-a65f-22a6ee3f0476",
   "metadata": {},
   "outputs": [],
   "source": [
    "# !pip install PyYAML"
   ]
  },
  {
   "cell_type": "code",
   "execution_count": 4,
   "id": "3e2d9cc5-d167-4b08-8a0b-020c581ee30b",
   "metadata": {},
   "outputs": [
    {
     "name": "stdout",
     "output_type": "stream",
     "text": [
      "['car', 'bike', 'scooter', 'auto', 'bus', 'truck']\n"
     ]
    }
   ],
   "source": [
    "# load yaml \n",
    "with open('data.yaml',mode= 'r') as f:\n",
    "    data_yaml = yaml.load(f,Loader=SafeLoader)\n",
    "\n",
    "labels =  data_yaml['names']\n",
    "print(labels)\n",
    "    \n",
    "    \n",
    "# load yolo model"
   ]
  },
  {
   "cell_type": "code",
   "execution_count": 5,
   "id": "0b6da0db-1c75-4952-aa15-e6baa687dbee",
   "metadata": {},
   "outputs": [],
   "source": [
    "yolo = cv2.dnn.readNetFromONNX('./Model-20240613T072338Z-001/Model/weights/best.onnx')\n",
    "yolo.setPreferableBackend(cv2.dnn.DNN_BACKEND_OPENCV)\n",
    "yolo.setPreferableTarget(cv2.dnn.DNN_TARGET_CPU)"
   ]
  },
  {
   "cell_type": "code",
   "execution_count": 6,
   "id": "1e689d0c-5d80-49d0-818e-9b586a3a7c08",
   "metadata": {},
   "outputs": [],
   "source": [
    "# load the image\n",
    "img = cv2.imread('./6916950244_b7dbcf4555_k.jpg')\n",
    "image = img.copy()\n",
    "row, col, d = image.shape\n",
    "\n",
    "# convert image into square image\n",
    "max_rc = max(row,col)\n",
    "input_image = np.zeros((max_rc,max_rc,3),dtype=np.uint8)\n",
    "\n",
    "# cv2.imshow('input_image',input_image)\n",
    "input_image[0:row,0:col] = image\n",
    "# step2: get prediction from square array\n",
    "INPUT_WH_YOLO = 640\n",
    "blob = cv2.dnn.blobFromImage(input_image,1/255,(INPUT_WH_YOLO,INPUT_WH_YOLO),swapRB=True,crop=False)\n",
    "yolo.setInput(blob)\n",
    "preds = yolo.forward()  #detections or predictions from yolo\n",
    "\n",
    "\n",
    "# get thebyolo preditions from the images"
   ]
  },
  {
   "cell_type": "code",
   "execution_count": 7,
   "id": "cf949082-aedb-4bea-9fee-b8e5771505eb",
   "metadata": {},
   "outputs": [
    {
     "name": "stdout",
     "output_type": "stream",
     "text": [
      "(1, 25200, 11)\n"
     ]
    }
   ],
   "source": [
    "print(preds.shape)"
   ]
  },
  {
   "cell_type": "code",
   "execution_count": 8,
   "id": "9ba205d0-1c7e-4ce7-9c24-5428767ae2fe",
   "metadata": {},
   "outputs": [],
   "source": [
    "# Non maximum supressinon\n",
    "# step 1:filter detection basedon confidence on confidence (0.4) and probability score(0,25)\n",
    "detections = preds[0]\n",
    "boxes = []\n",
    "confidences = []\n",
    "classes = []\n",
    "# width and height of the iamge\n",
    "image_w,image_h= input_image.shape[:2]\n",
    "x_factor = image_w/INPUT_WH_YOLO\n",
    "y_factor = image_h/INPUT_WH_YOLO\n",
    "\n",
    "for i in range(len(detections)):\n",
    "    row = detections[i]\n",
    "    confidence = row[4] #confidence of detection on object\n",
    "    if confidence > 0.4:\n",
    "        class_score = row[5:].max() #max. prob from 20 object\n",
    "        class_id = row[5:].argmax()\n",
    "\n",
    "        if class_score >0.25:\n",
    "            cx, cy, w , h = row[0:4]\n",
    "            # Construct boundinng box from four values\n",
    "            left = int((cx - 0.5*w)*x_factor)\n",
    "            top = int((cy - 0.5*h)*y_factor)\n",
    "            width = int(w*x_factor)\n",
    "            height = int(h*y_factor)\n",
    "\n",
    "            box= np.array([left,top,width,height])\n",
    "\n",
    "            # append value in list\n",
    "            confidences.append(confidence)\n",
    "            boxes.append(box)\n",
    "            classes.append(class_id)\n",
    "\n",
    "# clean\n",
    "boxes_np = np.array(boxes).tolist()\n",
    "confidences_np = np.array(confidences).tolist()\n",
    "\n",
    "# NMS\n",
    "index=cv2.dnn.NMSBoxes(boxes_np,confidences_np,0.25,0.45).flatten()\n",
    "\n",
    "\n",
    "            \n",
    "        "
   ]
  },
  {
   "cell_type": "code",
   "execution_count": 9,
   "id": "519a8f5d-4e39-4e06-8cf4-44ecc7b5ffc0",
   "metadata": {},
   "outputs": [
    {
     "data": {
      "text/plain": [
       "6"
      ]
     },
     "execution_count": 9,
     "metadata": {},
     "output_type": "execute_result"
    }
   ],
   "source": [
    "len(index)"
   ]
  },
  {
   "cell_type": "code",
   "execution_count": 10,
   "id": "ff767fbc",
   "metadata": {},
   "outputs": [],
   "source": [
    "for ind in index:\n",
    "    # extract bounding bxes\n",
    "    x,y,w,h = boxes_np[ind]\n",
    "    bb_conf = confidences_np[ind]\n",
    "    classes_id = classes[ind]\n",
    "    class_name = labels[class_id]\n",
    "\n",
    "    text = f'{class_name}: {bb_conf}%'\n",
    "\n",
    "    cv2.rectangle(image,(x,y),(x+w,y+h),(0,255,0),2)\n",
    "    cv2.rectangle(image,(x,y-30),(x+w,y),(255,255,255),-1)\n",
    "\n",
    "    cv2.putText(image,text,(x,y-10),cv2.FONT_HERSHEY_PLAIN,0.7,(0,0,0),1)"
   ]
  },
  {
   "cell_type": "code",
   "execution_count": 11,
   "id": "81502ec0",
   "metadata": {},
   "outputs": [],
   "source": [
    "cv2.imshow('original',img)\n",
    "cv2.imshow('yolo_prediction',image)\n",
    "cv2.waitKey(0)\n",
    "cv2.destroyAllWindows()"
   ]
  },
  {
   "cell_type": "code",
   "execution_count": null,
   "id": "f1120797-8bf3-4270-809d-f2514a743cc2",
   "metadata": {},
   "outputs": [],
   "source": [
    "cap = cv2.VideoCapture('video.mp4')\n",
    "\n",
    "while True:\n",
    "    ret, frame = cap.read()\n",
    "    if ret == False:\n",
    "        print('unable to read video')\n",
    "        break\n",
    "\n",
    "    pred_image = yolo.prediction(frame)\n",
    "    cv2.imshow('YOLO',pred_image)\n",
    "    if cv2.waitKey(1) == 27:\n",
    "        break\n",
    "\n",
    "cv2.destroyAllWindows() \n",
    "cap.release()\n",
    "\n",
    "             "
   ]
  },
  {
   "cell_type": "code",
   "execution_count": null,
   "id": "2a9d604c-7fa2-4fa7-a7a6-c581ee17bf3e",
   "metadata": {},
   "outputs": [],
   "source": []
  }
 ],
 "metadata": {
  "kernelspec": {
   "display_name": "Python 3 (ipykernel)",
   "language": "python",
   "name": "python3"
  },
  "language_info": {
   "codemirror_mode": {
    "name": "ipython",
    "version": 3
   },
   "file_extension": ".py",
   "mimetype": "text/x-python",
   "name": "python",
   "nbconvert_exporter": "python",
   "pygments_lexer": "ipython3",
   "version": "3.12.4"
  }
 },
 "nbformat": 4,
 "nbformat_minor": 5
}
