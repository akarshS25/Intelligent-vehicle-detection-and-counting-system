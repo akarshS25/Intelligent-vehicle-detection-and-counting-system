{
 "cells": [
  {
   "cell_type": "code",
   "execution_count": 32,
   "id": "5b489bef-431f-4777-8b74-a82f64bfccdf",
   "metadata": {},
   "outputs": [],
   "source": [
    "import cv2\n",
    "import numpy as np\n",
    "from yolo_predictions import YOLO_Pred  # Ensure this is the correct path to your YOLO_Pred class\n",
    "from collections import deque\n",
    "import math"
   ]
  },
  {
   "cell_type": "code",
   "execution_count": 33,
   "id": "b50db708-a226-4fd6-9da8-1bddc0dd201a",
   "metadata": {},
   "outputs": [],
   "source": [
    "onnx_model = './Model-20240613T072338Z-001/Model/weights/best.onnx'  # Adjust the model path if needed\n",
    "data_yaml = 'data.yaml'\n",
    "yolo = YOLO_Pred(onnx_model, data_yaml)"
   ]
  },
  {
   "cell_type": "code",
   "execution_count": 34,
   "id": "a288eecc-36b2-4060-8789-27f8d26bc4cd",
   "metadata": {},
   "outputs": [],
   "source": [
    "video_path = '2103099-uhd_3840_2160_30fps.mp4'\n",
    "cap = cv2.VideoCapture(video_path)"
   ]
  },
  {
   "cell_type": "code",
   "execution_count": 35,
   "id": "a463bedb-87e6-40aa-bd52-455b1fb373f7",
   "metadata": {},
   "outputs": [],
   "source": [
    "# Initialize counts\n",
    "frame_count = 0\n",
    "center_points_prev_frame = []\n",
    "tracking_objects = {}\n",
    "track_id = 0"
   ]
  },
  {
   "cell_type": "code",
   "execution_count": 36,
   "id": "616d10e9-fd34-459d-94a0-4d04f3c816e0",
   "metadata": {},
   "outputs": [
    {
     "ename": "ValueError",
     "evalue": "too many values to unpack (expected 2)",
     "output_type": "error",
     "traceback": [
      "\u001b[1;31m---------------------------------------------------------------------------\u001b[0m",
      "\u001b[1;31mValueError\u001b[0m                                Traceback (most recent call last)",
      "Cell \u001b[1;32mIn[36], line 8\u001b[0m\n\u001b[0;32m      5\u001b[0m     \u001b[38;5;28;01mbreak\u001b[39;00m\n\u001b[0;32m      7\u001b[0m \u001b[38;5;66;03m# Get YOLO predictions\u001b[39;00m\n\u001b[1;32m----> 8\u001b[0m frame, detections \u001b[38;5;241m=\u001b[39m yolo\u001b[38;5;241m.\u001b[39mpredictions(frame)\n\u001b[0;32m     10\u001b[0m \u001b[38;5;66;03m# Initialize list for current frame's object centers\u001b[39;00m\n\u001b[0;32m     11\u001b[0m center_points_cur_frame \u001b[38;5;241m=\u001b[39m []\n",
      "\u001b[1;31mValueError\u001b[0m: too many values to unpack (expected 2)"
     ]
    }
   ],
   "source": [
    "while True:\n",
    "    ret, frame = cap.read()\n",
    "    frame_count += 1\n",
    "    if not ret:\n",
    "        break\n",
    "\n",
    "    # Get YOLO predictions\n",
    "    frame, detections = yolo.predictions(frame)\n",
    "    \n",
    "    # Initialize list for current frame's object centers\n",
    "    center_points_cur_frame = []\n",
    "\n",
    "    for det in detections:\n",
    "        x, y, w, h, conf, class_id, class_name = det\n",
    "        cx = int((x + x + w) / 2)\n",
    "        cy = int((y + y + h) / 2)\n",
    "        center_points_cur_frame.append((cx, cy))\n",
    "        cv2.rectangle(frame, (x, y), (x + w, y + h), (0, 255, 0), 2)\n",
    "\n",
    "    # Only at the beginning, we compare previous and current frame\n",
    "    if frame_count <= 2:\n",
    "        for pt in center_points_cur_frame:\n",
    "            for pt2 in center_points_prev_frame:\n",
    "                distance = math.hypot(pt2[0] - pt[0], pt2[1] - pt[1])\n",
    "                if distance < 20:\n",
    "                    tracking_objects[track_id] = pt\n",
    "                    track_id += 1\n",
    "    else:\n",
    "        tracking_objects_copy = tracking_objects.copy()\n",
    "        center_points_cur_frame_copy = center_points_cur_frame.copy()\n",
    "\n",
    "        for object_id, pt2 in tracking_objects_copy.items():\n",
    "            object_exists = False\n",
    "            for pt in center_points_cur_frame_copy:\n",
    "                distance = math.hypot(pt2[0] - pt[0], pt2[1] - pt[1])\n",
    "\n",
    "                # Update IDs position\n",
    "                if distance < 20:\n",
    "                    tracking_objects[object_id] = pt\n",
    "                    object_exists = True\n",
    "                    if pt in center_points_cur_frame:\n",
    "                        center_points_cur_frame.remove(pt)\n",
    "                    continue\n",
    "\n",
    "            # Remove IDs lost\n",
    "            if not object_exists:\n",
    "                tracking_objects.pop(object_id)\n",
    "\n",
    "        # Add new IDs found\n",
    "        for pt in center_points_cur_frame:\n",
    "            tracking_objects[track_id] = pt\n",
    "            track_id += 1\n",
    "\n",
    "    for object_id, pt in tracking_objects.items():\n",
    "        cv2.circle(frame, pt, 5, (0, 0, 255), -1)\n",
    "        cv2.putText(frame, str(object_id), (pt[0], pt[1] - 7), 0, 1, (0, 0, 255), 2)\n",
    "\n",
    "    print(\"Tracking objects\")\n",
    "    print(tracking_objects)\n",
    "\n",
    "    print(\"CUR FRAME LEFT PTS\")\n",
    "    print(center_points_cur_frame)\n",
    "\n",
    "    cv2.imshow(\"Frame\", frame)\n",
    "\n",
    "    # Make a copy of the points\n",
    "    center_points_prev_frame = center_points_cur_frame.copy()\n",
    "\n",
    "    key = cv2.waitKey(1)\n",
    "    if key == 27:\n",
    "        break\n",
    "\n",
    "cap.release()\n",
    "cv2.destroyAllWindows()"
   ]
  },
  {
   "cell_type": "code",
   "execution_count": 16,
   "id": "b9fa460e-5524-4e0c-92bf-3b3fc99d4ecc",
   "metadata": {},
   "outputs": [],
   "source": []
  },
  {
   "cell_type": "code",
   "execution_count": null,
   "id": "602b9a9e-5d45-44de-83b9-969b7e74a779",
   "metadata": {},
   "outputs": [],
   "source": []
  },
  {
   "cell_type": "code",
   "execution_count": null,
   "id": "a1e1510e-39c0-4915-b267-0f11fde4402a",
   "metadata": {},
   "outputs": [],
   "source": []
  }
 ],
 "metadata": {
  "kernelspec": {
   "display_name": "Python 3 (ipykernel)",
   "language": "python",
   "name": "python3"
  },
  "language_info": {
   "codemirror_mode": {
    "name": "ipython",
    "version": 3
   },
   "file_extension": ".py",
   "mimetype": "text/x-python",
   "name": "python",
   "nbconvert_exporter": "python",
   "pygments_lexer": "ipython3",
   "version": "3.12.4"
  }
 },
 "nbformat": 4,
 "nbformat_minor": 5
}
