{
 "cells": [
  {
   "cell_type": "code",
   "execution_count": 1,
   "id": "9c68f2aa",
   "metadata": {},
   "outputs": [],
   "source": [
    "# !pip install opencv-python"
   ]
  },
  {
   "cell_type": "code",
   "execution_count": 2,
   "id": "ca86a791-a3a0-4108-8472-faf22d3fe450",
   "metadata": {},
   "outputs": [],
   "source": [
    "import cv2\n",
    "from yolo_predictions import YOLO_Pred"
   ]
  },
  {
   "cell_type": "code",
   "execution_count": 3,
   "id": "d8e23ae1-5776-4139-b235-a14996ca8561",
   "metadata": {},
   "outputs": [],
   "source": [
    "yolo = YOLO_Pred('./Model-20240613T072338Z-001/Model/weights/best.onnx','data.yaml')"
   ]
  },
  {
   "cell_type": "code",
   "execution_count": 4,
   "id": "b302d4c0",
   "metadata": {},
   "outputs": [],
   "source": [
    "# img = cv2.imread('./street_image.jpg')\n",
    "\n",
    "# cv2.imshow('img',img)\n",
    "# cv2.waitKey(0)\n",
    "# cv2.destroyAllWindows()"
   ]
  },
  {
   "cell_type": "code",
   "execution_count": 5,
   "id": "49d774f3-5228-42a1-bd2b-ea3b2beba656",
   "metadata": {},
   "outputs": [],
   "source": [
    "# predictions\n",
    "# img_pred = yolo.predictions(img)"
   ]
  },
  {
   "cell_type": "code",
   "execution_count": 6,
   "id": "39349628-dc1b-4120-8ccb-7bd0a039efc7",
   "metadata": {},
   "outputs": [],
   "source": [
    "# cv2.imshow('prediction img',img_pred)\n",
    "# cv2.waitKey(0)\n",
    "# cv2.destroyAllWindows()"
   ]
  },
  {
   "cell_type": "code",
   "execution_count": 7,
   "id": "88064ec6",
   "metadata": {},
   "outputs": [],
   "source": [
    "cap = cv2.VideoCapture('2103099-uhd_3840_2160_30fps.mp4')\n",
    "while True:\n",
    "    ret, frame =cap.read()\n",
    "    if ret == False:\n",
    "        print('unable to read video')\n",
    "        break\n",
    "\n",
    "    pred_image = yolo.predictions(frame)\n",
    "    cv2.imshow('YOLO',pred_image)\n",
    "    if cv2.waitKey(1) == 27:\n",
    "        break\n",
    "\n",
    "cv2.destroyAllWindows()\n",
    "cap.release()"
   ]
  },
  {
   "cell_type": "code",
   "execution_count": null,
   "id": "30d163b5-4d4a-4560-9511-148c75dfef14",
   "metadata": {},
   "outputs": [],
   "source": []
  }
 ],
 "metadata": {
  "kernelspec": {
   "display_name": "Python 3 (ipykernel)",
   "language": "python",
   "name": "python3"
  },
  "language_info": {
   "codemirror_mode": {
    "name": "ipython",
    "version": 3
   },
   "file_extension": ".py",
   "mimetype": "text/x-python",
   "name": "python",
   "nbconvert_exporter": "python",
   "pygments_lexer": "ipython3",
   "version": "3.12.4"
  }
 },
 "nbformat": 4,
 "nbformat_minor": 5
}
