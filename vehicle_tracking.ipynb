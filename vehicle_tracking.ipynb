{
 "cells": [
  {
   "cell_type": "code",
   "execution_count": 1,
   "id": "5b489bef-431f-4777-8b74-a82f64bfccdf",
   "metadata": {},
   "outputs": [],
   "source": [
    "# import cv2\n",
    "# import numpy as np\n",
    "# from yolo_predictions import YOLO_Pred  # Ensure this is the correct path to your YOLO_Pred class\n",
    "# from collections import deque\n",
    "# import math"
   ]
  },
  {
   "cell_type": "code",
   "execution_count": 6,
   "id": "b50db708-a226-4fd6-9da8-1bddc0dd201a",
   "metadata": {},
   "outputs": [],
   "source": [
    "# onnx_model = './Model-20240613T072338Z-001/Model/weights/best.onnx'  # Adjust the model path if needed\n",
    "# data_yaml = 'data.yaml'\n",
    "# yolo = YOLO_Pred(onnx_model, data_yaml)"
   ]
  },
  {
   "cell_type": "code",
   "execution_count": 2,
   "id": "a288eecc-36b2-4060-8789-27f8d26bc4cd",
   "metadata": {},
   "outputs": [],
   "source": [
    "# class VehicleTracker:\n",
    "#     def __init__(self, onnx_model, data_yaml):\n",
    "#         self.yolo_pred = YOLO_Pred(onnx_model, data_yaml)\n",
    "#         self.trackers = []\n",
    "#         self.vehicle_count = {\"car\": 0, \"bike\": 0}\n",
    "#         self.line_y = 400\n",
    "\n",
    "#     def track_vehicles(self, frame):\n",
    "#         frame, detections = self.yolo_pred.predictions(frame)\n",
    "\n",
    "#         # Initialize trackers for new detections\n",
    "#         for class_name, bbox in detections:\n",
    "#             if class_name in [\"car\", \"bike\"]:\n",
    "#                 tracker = cv2.TrackerCSRT_create()\n",
    "#                 tracker.init(frame, bbox)\n",
    "#                 self.trackers.append((tracker, class_name)) \n",
    "\n",
    "#         # Update trackers and count vehicles\n",
    "#         new_trackers = []\n",
    "#         for tracker, class_name in self.trackers:\n",
    "#             success, bbox = tracker.update(frame)\n",
    "#             if success:\n",
    "#                 x, y, w, h = [int(v) for v in bbox]\n",
    "#                 if y < self.line_y < y + h:\n",
    "#                     self.vehicle_count[class_name] += 1\n",
    "#                 else:\n",
    "#                     new_trackers.append((tracker, class_name))\n",
    "#                 cv2.rectangle(frame, (x, y), (x + w, y + h), (0, 255, 0), 2)\n",
    "#                 cv2.putText(frame, class_name, (x, y - 10), cv2.FONT_HERSHEY_SIMPLEX, 0.75, (0, 255, 0), 2)\n",
    "        \n",
    "#         self.trackers = new_trackers\n",
    "\n",
    "#         # Draw the ROI line\n",
    "#         cv2.line(frame, (0, self.line_y), (frame.shape[1], self.line_y), (255, 0, 0), 2)\n",
    "#         cv2.putText(frame, f\"Cars: {self.vehicle_count['car']}\", (10, 30), cv2.FONT_HERSHEY_SIMPLEX, 1, (0, 0, 255), 2)\n",
    "#         cv2.putText(frame, f\"Bikes: {self.vehicle_count['bike']}\", (10, 70), cv2.FONT_HERSHEY_SIMPLEX, 1, (0, 0, 255), 2)\n",
    "\n",
    "#         return frame           "
   ]
  },
  {
   "cell_type": "code",
   "execution_count": 3,
   "id": "a463bedb-87e6-40aa-bd52-455b1fb373f7",
   "metadata": {},
   "outputs": [
    {
     "ename": "ValueError",
     "evalue": "too many values to unpack (expected 2)",
     "output_type": "error",
     "traceback": [
      "\u001b[1;31m---------------------------------------------------------------------------\u001b[0m",
      "\u001b[1;31mValueError\u001b[0m                                Traceback (most recent call last)",
      "Cell \u001b[1;32mIn[3], line 24\u001b[0m\n\u001b[0;32m     21\u001b[0m     cv2\u001b[38;5;241m.\u001b[39mdestroyAllWindows()\n\u001b[0;32m     23\u001b[0m \u001b[38;5;28;01mif\u001b[39;00m \u001b[38;5;18m__name__\u001b[39m \u001b[38;5;241m==\u001b[39m \u001b[38;5;124m\"\u001b[39m\u001b[38;5;124m__main__\u001b[39m\u001b[38;5;124m\"\u001b[39m:\n\u001b[1;32m---> 24\u001b[0m     \u001b[43mmain\u001b[49m\u001b[43m(\u001b[49m\u001b[43m)\u001b[49m\n",
      "Cell \u001b[1;32mIn[3], line 14\u001b[0m, in \u001b[0;36mmain\u001b[1;34m()\u001b[0m\n\u001b[0;32m     11\u001b[0m \u001b[38;5;28;01mif\u001b[39;00m \u001b[38;5;129;01mnot\u001b[39;00m ret:\n\u001b[0;32m     12\u001b[0m     \u001b[38;5;28;01mbreak\u001b[39;00m\n\u001b[1;32m---> 14\u001b[0m frame \u001b[38;5;241m=\u001b[39m \u001b[43mvehicle_tracker\u001b[49m\u001b[38;5;241;43m.\u001b[39;49m\u001b[43mtrack_vehicles\u001b[49m\u001b[43m(\u001b[49m\u001b[43mframe\u001b[49m\u001b[43m)\u001b[49m\n\u001b[0;32m     15\u001b[0m cv2\u001b[38;5;241m.\u001b[39mimshow(\u001b[38;5;124m\"\u001b[39m\u001b[38;5;124mVehicle Tracking\u001b[39m\u001b[38;5;124m\"\u001b[39m, frame)\n\u001b[0;32m     17\u001b[0m \u001b[38;5;28;01mif\u001b[39;00m cv2\u001b[38;5;241m.\u001b[39mwaitKey(\u001b[38;5;241m1\u001b[39m) \u001b[38;5;241m&\u001b[39m \u001b[38;5;241m0xFF\u001b[39m \u001b[38;5;241m==\u001b[39m \u001b[38;5;28mord\u001b[39m(\u001b[38;5;124m'\u001b[39m\u001b[38;5;124mq\u001b[39m\u001b[38;5;124m'\u001b[39m):\n",
      "Cell \u001b[1;32mIn[2], line 9\u001b[0m, in \u001b[0;36mVehicleTracker.track_vehicles\u001b[1;34m(self, frame)\u001b[0m\n\u001b[0;32m      8\u001b[0m \u001b[38;5;28;01mdef\u001b[39;00m \u001b[38;5;21mtrack_vehicles\u001b[39m(\u001b[38;5;28mself\u001b[39m, frame):\n\u001b[1;32m----> 9\u001b[0m     frame, detections \u001b[38;5;241m=\u001b[39m \u001b[38;5;28mself\u001b[39m\u001b[38;5;241m.\u001b[39myolo_pred\u001b[38;5;241m.\u001b[39mpredictions(frame)\n\u001b[0;32m     11\u001b[0m     \u001b[38;5;66;03m# Initialize trackers for new detections\u001b[39;00m\n\u001b[0;32m     12\u001b[0m     \u001b[38;5;28;01mfor\u001b[39;00m class_name, bbox \u001b[38;5;129;01min\u001b[39;00m detections:\n",
      "\u001b[1;31mValueError\u001b[0m: too many values to unpack (expected 2)"
     ]
    }
   ],
   "source": [
    "# def main():\n",
    "#     onnx_model = \"./Model-20240613T072338Z-001/Model/weights/best.onnx\"  # Path to your ONNX model\n",
    "#     data_yaml = \"data.yaml\"     # Path to your YAML file\n",
    "\n",
    "#     vehicle_tracker = VehicleTracker(onnx_model, data_yaml)\n",
    "\n",
    "#     cap = cv2.VideoCapture(\"2103099-uhd_3840_2160_30fps.mp4\")  # Path to your video file\n",
    "\n",
    "#     while cap.isOpened():\n",
    "#         ret, frame = cap.read()\n",
    "#         if not ret:\n",
    "#             break\n",
    "\n",
    "#         frame = vehicle_tracker.track_vehicles(frame)\n",
    "#         cv2.imshow(\"Vehicle Tracking\", frame)\n",
    "\n",
    "#         if cv2.waitKey(1) & 0xFF == ord('q'):\n",
    "#             break\n",
    "\n",
    "#     cap.release()\n",
    "#     cv2.destroyAllWindows()\n",
    "\n",
    "# if __name__ == \"__main__\":\n",
    "#     main()"
   ]
  },
  {
   "cell_type": "code",
   "execution_count": 7,
   "id": "b9fa460e-5524-4e0c-92bf-3b3fc99d4ecc",
   "metadata": {},
   "outputs": [
    {
     "ename": "AttributeError",
     "evalue": "module 'cv2' has no attribute 'MultiTracker'",
     "output_type": "error",
     "traceback": [
      "\u001b[1;31m---------------------------------------------------------------------------\u001b[0m",
      "\u001b[1;31mAttributeError\u001b[0m                            Traceback (most recent call last)",
      "Cell \u001b[1;32mIn[7], line 65\u001b[0m\n\u001b[0;32m     63\u001b[0m data_yaml \u001b[38;5;241m=\u001b[39m \u001b[38;5;124m'\u001b[39m\u001b[38;5;124mdata.yaml\u001b[39m\u001b[38;5;124m'\u001b[39m\n\u001b[0;32m     64\u001b[0m tracker_type \u001b[38;5;241m=\u001b[39m \u001b[38;5;124m'\u001b[39m\u001b[38;5;124mCSRT\u001b[39m\u001b[38;5;124m'\u001b[39m  \u001b[38;5;66;03m# You can change this to any supported tracker type\u001b[39;00m\n\u001b[1;32m---> 65\u001b[0m \u001b[43mmain\u001b[49m\u001b[43m(\u001b[49m\u001b[43mvideo_path\u001b[49m\u001b[43m,\u001b[49m\u001b[43m \u001b[49m\u001b[43monnx_model\u001b[49m\u001b[43m,\u001b[49m\u001b[43m \u001b[49m\u001b[43mdata_yaml\u001b[49m\u001b[43m,\u001b[49m\u001b[43m \u001b[49m\u001b[43mtracker_type\u001b[49m\u001b[43m)\u001b[49m\n",
      "Cell \u001b[1;32mIn[7], line 30\u001b[0m, in \u001b[0;36mmain\u001b[1;34m(video_path, onnx_model, data_yaml, tracker_type)\u001b[0m\n\u001b[0;32m     28\u001b[0m yolo_predictor \u001b[38;5;241m=\u001b[39m YOLO_Pred(onnx_model, data_yaml)\n\u001b[0;32m     29\u001b[0m cap \u001b[38;5;241m=\u001b[39m cv2\u001b[38;5;241m.\u001b[39mVideoCapture(video_path)\n\u001b[1;32m---> 30\u001b[0m trackers \u001b[38;5;241m=\u001b[39m \u001b[43mcv2\u001b[49m\u001b[38;5;241;43m.\u001b[39;49m\u001b[43mMultiTracker\u001b[49m()\n\u001b[0;32m     32\u001b[0m \u001b[38;5;28;01mwhile\u001b[39;00m cap\u001b[38;5;241m.\u001b[39misOpened():\n\u001b[0;32m     33\u001b[0m     ret, frame \u001b[38;5;241m=\u001b[39m cap\u001b[38;5;241m.\u001b[39mread()\n",
      "\u001b[1;31mAttributeError\u001b[0m: module 'cv2' has no attribute 'MultiTracker'"
     ]
    }
   ],
   "source": [
    "#!/usr/bin/env python\n",
    "# coding: utf-8\n",
    "import cv2\n",
    "import numpy as np\n",
    "from yolo_predictions import YOLO_Pred  # Assuming your prediction file is named yolo_pred.py and contains YOLO_Pred class\n",
    "\n",
    "def initialize_tracker(tracker_type):\n",
    "    if tracker_type == 'BOOSTING':\n",
    "        return cv2.TrackerBoosting_create()\n",
    "    elif tracker_type == 'MIL':\n",
    "        return cv2.TrackerMIL_create()\n",
    "    elif tracker_type == 'KCF':\n",
    "        return cv2.TrackerKCF_create()\n",
    "    elif tracker_type == 'TLD':\n",
    "        return cv2.TrackerTLD_create()\n",
    "    elif tracker_type == 'MEDIANFLOW':\n",
    "        return cv2.TrackerMedianFlow_create()\n",
    "    elif tracker_type == 'GOTURN':\n",
    "        return cv2.TrackerGOTURN_create()\n",
    "    elif tracker_type == 'MOSSE':\n",
    "        return cv2.TrackerMOSSE_create()\n",
    "    elif tracker_type == 'CSRT':\n",
    "        return cv2.TrackerCSRT_create()\n",
    "    else:\n",
    "        raise ValueError(f'Unknown tracker type: {tracker_type}')\n",
    "\n",
    "def main(video_path, onnx_model, data_yaml, tracker_type='CSRT'):\n",
    "    yolo_predictor = YOLO_Pred(onnx_model, data_yaml)\n",
    "    cap = cv2.VideoCapture(video_path)\n",
    "    trackers = cv2.MultiTracker()\n",
    "    \n",
    "    while cap.isOpened():\n",
    "        ret, frame = cap.read()\n",
    "        if not ret:\n",
    "            break\n",
    "        \n",
    "        if len(trackers.getObjects()) == 0:\n",
    "            processed_frame, detections = yolo_predictor.predictions(frame)\n",
    "            for detection in detections:\n",
    "                x, y, w, h, class_id = detection\n",
    "                tracker = initialize_tracker(tracker_type)\n",
    "                trackers.add(tracker, frame, (x, y, w, h))\n",
    "        else:\n",
    "            success, boxes = trackers.update(frame)\n",
    "            for i, box in enumerate(boxes):\n",
    "                x, y, w, h = [int(v) for v in box]\n",
    "                class_id = detections[i][4]  # assuming order of detections is same as trackers\n",
    "                color = yolo_predictor.generate_colors(class_id)\n",
    "                cv2.rectangle(frame, (x, y), (x + w, y + h), color, 2)\n",
    "                class_name = yolo_predictor.labels[class_id]\n",
    "                cv2.putText(frame, class_name, (x, y - 10), cv2.FONT_HERSHEY_SIMPLEX, 0.6, color, 2)\n",
    "        \n",
    "        cv2.imshow('Vehicle Tracking', frame)\n",
    "        if cv2.waitKey(1) & 0xFF == ord('q'):\n",
    "            break\n",
    "\n",
    "    cap.release()\n",
    "    cv2.destroyAllWindows()\n",
    "\n",
    "if __name__ == \"__main__\":\n",
    "    video_path = '2103099-uhd_3840_2160_30fps.mp4'\n",
    "    onnx_model = './Model-20240613T072338Z-001/Model/weights/best.onnx'\n",
    "    data_yaml = 'data.yaml'\n",
    "    tracker_type = 'CSRT'  # You can change this to any supported tracker type\n",
    "    main(video_path, onnx_model, data_yaml, tracker_type)\n"
   ]
  },
  {
   "cell_type": "code",
   "execution_count": null,
   "id": "602b9a9e-5d45-44de-83b9-969b7e74a779",
   "metadata": {},
   "outputs": [],
   "source": []
  },
  {
   "cell_type": "code",
   "execution_count": null,
   "id": "a1e1510e-39c0-4915-b267-0f11fde4402a",
   "metadata": {},
   "outputs": [],
   "source": []
  }
 ],
 "metadata": {
  "kernelspec": {
   "display_name": "Python 3 (ipykernel)",
   "language": "python",
   "name": "python3"
  },
  "language_info": {
   "codemirror_mode": {
    "name": "ipython",
    "version": 3
   },
   "file_extension": ".py",
   "mimetype": "text/x-python",
   "name": "python",
   "nbconvert_exporter": "python",
   "pygments_lexer": "ipython3",
   "version": "3.12.4"
  }
 },
 "nbformat": 4,
 "nbformat_minor": 5
}
